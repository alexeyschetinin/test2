{
 "cells": [
  {
   "cell_type": "code",
   "id": "initial_id",
   "metadata": {
    "collapsed": true,
    "ExecuteTime": {
     "end_time": "2025-03-29T06:23:44.691707Z",
     "start_time": "2025-03-29T06:23:42.869101Z"
    }
   },
   "source": [
    "import easyocr\n",
    "import cv2\n",
    "import numpy as np\n",
    "from PIL import Image\n",
    "\n",
    "# Инициализация EasyOCR\n",
    "reader = easyocr.Reader(['ru'])\n",
    "\n",
    "# Загрузка и увеличение изображения\n",
    "image_path = 'Output_data/2025-02-01_22-14-38_warped_image.png'\n",
    "pil_image = Image.open(image_path)\n",
    "\n",
    "width = 2000  # Новая ширина\n",
    "ratio = width / float(pil_image.size[0])\n",
    "height = int(float(pil_image.size[1]) * ratio)\n",
    "resized_image = pil_image.resize((width, height), Image.Resampling.LANCZOS)\n",
    "\n",
    "# Конвертация в OpenCV-формат\n",
    "image = np.array(resized_image)\n",
    "image = cv2.cvtColor(image, cv2.COLOR_RGB2BGR)\n",
    "\n",
    "# Распознавание текста\n",
    "results = reader.readtext(image)\n",
    "\n",
    "# Функция для отрисовки текста ВНУТРИ bbox\n",
    "def draw_ocr_results(image, results, font_size=0.7, font_thickness=1):\n",
    "    output = image.copy()\n",
    "    for (bbox, text, prob) in results:\n",
    "        # Получаем координаты bbox\n",
    "        (tl, tr, br, bl) = bbox\n",
    "        tl = (int(tl[0]), int(tl[1]))  # Верхний левый угол\n",
    "        br = (int(br[0]), int(br[1]))  # Нижний правый угол\n",
    "\n",
    "        # Рисуем полупрозрачный прямоугольник\n",
    "        overlay = output.copy()\n",
    "        cv2.rectangle(overlay, tl, br, (0, 255, 0), -1)  # -1 = залитый\n",
    "        cv2.addWeighted(overlay, 0.3, output, 0.7, 0, output)  # Прозрачность 30%\n",
    "\n",
    "        # Рисуем рамку\n",
    "        cv2.rectangle(output, tl, br, (0, 255, 0), 2)\n",
    "\n",
    "        # Размещаем текст ВНУТРИ bbox (по центру)\n",
    "        text_size = cv2.getTextSize(text, cv2.FONT_HERSHEY_SIMPLEX, font_size, font_thickness)[0]\n",
    "        text_x = tl[0] + (br[0] - tl[0] - text_size[0]) // 2\n",
    "        text_y = tl[1] + (br[1] - tl[1] + text_size[1]) // 2\n",
    "        cv2.putText(\n",
    "            output,\n",
    "            text,\n",
    "            (text_x, text_y),\n",
    "            cv2.FONT_HERSHEY_SIMPLEX,\n",
    "            font_size,\n",
    "            (0, 0, 255),  # Красный цвет текста\n",
    "            font_thickness\n",
    "        )\n",
    "    return output\n",
    "\n",
    "# Визуализация и сохранение\n",
    "output_image = draw_ocr_results(image, results)\n",
    "output_path = 'Output_data/ocr_result_text_inside_box.png'\n",
    "cv2.imwrite(output_path, output_image)\n",
    "\n",
    "print(f\"Результат сохранён в: {output_path}\")"
   ],
   "outputs": [
    {
     "name": "stdout",
     "output_type": "stream",
     "text": [
      "Результат сохранён в: Output_data/ocr_result_text_inside_box.png\n"
     ]
    }
   ],
   "execution_count": 2
  },
  {
   "metadata": {
    "ExecuteTime": {
     "end_time": "2025-03-29T06:27:17.147233Z",
     "start_time": "2025-03-29T06:27:17.144795Z"
    }
   },
   "cell_type": "code",
   "source": "https://github.com/NeuronsUII/NMRC/tree/151df8c6b4aace5b60762b02241c21c751ec2f67/Anna%20Myshliakova",
   "id": "736c837053f4173f",
   "outputs": [
    {
     "ename": "SyntaxError",
     "evalue": "invalid decimal literal (69881969.py, line 1)",
     "output_type": "error",
     "traceback": [
      "\u001B[0;36m  Cell \u001B[0;32mIn[3], line 1\u001B[0;36m\u001B[0m\n\u001B[0;31m    https://github.com/NeuronsUII/NMRC/tree/151df8c6b4aace5b60762b02241c21c751ec2f67/Anna%20Myshliakova\u001B[0m\n\u001B[0m                                              ^\u001B[0m\n\u001B[0;31mSyntaxError\u001B[0m\u001B[0;31m:\u001B[0m invalid decimal literal\n"
     ]
    }
   ],
   "execution_count": 3
  }
 ],
 "metadata": {
  "kernelspec": {
   "display_name": "Python 3",
   "language": "python",
   "name": "python3"
  },
  "language_info": {
   "codemirror_mode": {
    "name": "ipython",
    "version": 2
   },
   "file_extension": ".py",
   "mimetype": "text/x-python",
   "name": "python",
   "nbconvert_exporter": "python",
   "pygments_lexer": "ipython2",
   "version": "2.7.6"
  }
 },
 "nbformat": 4,
 "nbformat_minor": 5
}
